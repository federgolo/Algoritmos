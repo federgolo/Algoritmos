{
 "cells": [
  {
   "cell_type": "markdown",
   "metadata": {},
   "source": [
    "# Matrix product w/o numpy - Python 3"
   ]
  },
  {
   "cell_type": "markdown",
   "metadata": {},
   "source": [
    "La función fibo(n) de este programa calcula el producto entre dos matrices cuadradas de lado 'n', una llena con '1s' (unos) y la otra llena con '2s' (doses). Adicionalmente, lleva registro del tiempo de esta operación y la divide entre el número de operaciones (sumas y multiplicaciones) que haya realizado para retornar el tiempo por instrucción.\n",
    "\n",
    "Definimos un rango de diferentes 'n', posteriormente hacemos el llamado de la función 10 veces para cada 'n' y calculamos el promedio de lso datos restantes.\n",
    "\n",
    "Con estos datos, graficamos el tiempo estimado por instrucción en función de 'n'. Obtenemos una curva fruto de la ejecución del programa en una laptop, y otra curva por las respuestas obtenidas en un IDE online.\n",
    "\n",
    "PC: laptop marca Acer con procedador intel i5-5200U y 4GB de memoria RAM DDR3 L corriendo Python 3.6 en Win 8.1 \n",
    "repl.it: Python 3.6.1 -GCC 4.8.2- on linux"
   ]
  },
  {
   "cell_type": "code",
   "execution_count": 15,
   "metadata": {},
   "outputs": [
    {
     "name": "stdout",
     "output_type": "stream",
     "text": [
      "[[10, 6.8480090091103e-07], [20, 6.48043094537197e-07], [30, 7.125464760875523e-07], [40, 5.717515190945396e-07], [50, 5.597349609991517e-07], [60, 5.59410572497228e-07], [70, 5.508159824517518e-07], [80, 5.296980434993528e-07], [90, 5.210622013564833e-07], [100, 5.647625995041737e-07]]\n"
     ]
    },
    {
     "data": {
      "image/png": "[encoded data removed]",
      "text/plain": [
       "<matplotlib.figure.Figure at 0xce6308a7f0>"
      ]
     },
     "metadata": {},
     "output_type": "display_data"
    }
   ],
   "source": [
    "from matplotlib import pyplot\n",
    "import numpy as np\n",
    "import time, statistics\n",
    "\n",
    "def fibo(n):\n",
    "  A = np.full((n,n), 1)\n",
    "  B = np.full((n,n), 2)\n",
    "  result = np.full((n,n), 0)\n",
    "  \n",
    "  start = time.time()\n",
    "  \n",
    "  # iterate through rows of A\n",
    "  for i in range(len(A)):\n",
    "    # iterate through columns of B\n",
    "    for j in range(len(B[0])):\n",
    "      # iterate through rows of B\n",
    "      for k in range(len(B)):\n",
    "        result[i][j] += A[i][k] * B[k][j]\n",
    "             \n",
    "  finish = time.time()\n",
    "  \n",
    "  #print (\"Tiempo total:\" , finish-start)\n",
    "  #print(\"Número de pasos:\" , (2*(n**3))-n**2)\n",
    "  #print (\"Tiempo por instrucción:\" , (finish-start)/((2*(n**3))-n**2))\n",
    "  return (finish-start)/((2*(n**3))-n**2)\n",
    "#m = int(input(\"Ingrese el tamaño de la matriz.\\n\"))\n",
    "\n",
    "import numpy as np\n",
    "import time, statistics\n",
    "\n",
    "def fibo(n):\n",
    "  A = np.full((n,n), 1)\n",
    "  B = np.full((n,n), 2)\n",
    "  result = np.full((n,n), 0)\n",
    "  \n",
    "  start = time.time()\n",
    "  \n",
    "  # iterate through rows of A\n",
    "  for i in range(len(A)):\n",
    "    # iterate through columns of B\n",
    "    for j in range(len(B[0])):\n",
    "      # iterate through rows of B\n",
    "      for k in range(len(B)):\n",
    "        result[i][j] += A[i][k] * B[k][j]\n",
    "             \n",
    "  finish = time.time()\n",
    "  \n",
    "  #print (\"Tiempo total:\" , finish-start)\n",
    "  #print(\"Número de pasos:\" , (2*(n**3))-n**2)\n",
    "  #print (\"Tiempo por instrucción:\" , (finish-start)/((2*(n**3))-n**2))\n",
    "  return (finish-start)/((2*(n**3))-n**2)\n",
    "#m = int(input(\"Ingrese el tamaño de la matriz.\\n\"))\n",
    "\n",
    "list = []\n",
    "for m in range(10, 110, 10):\n",
    "    results = [fibo(m) for i in range(10)]\n",
    "    results.sort()\n",
    "    list.append([m, statistics.mean(results)])\n",
    "    \n",
    "print(list)\n",
    "\n",
    "r = range(0, len(list))\n",
    "\n",
    "remote = [[10, 2.326501043219315e-06], [20, 1.3687488360282702e-06], [30, 1.55782519985278e-06], [40, 1.467041011098065e-06], [50, 1.5366513801343514e-06], [60, 1.3068480318000004e-06], [70, 1.2786459457224956e-06], [80, 1.2389361952085914e-06], [90, 1.266638914776947e-06], [100, 1.1608981726756647e-06]]\n",
    "\n",
    "pyplot.plot([list[i][0] for i in r], [list[i][1] for i in r], marker='o', label=\"Personal Computer\")\n",
    "pyplot.plot([remote[i][0] for i in r], [remote[i][1] for i in r], marker='D', label=\"repl.it\")\n",
    "pyplot.legend(loc='upper right')\n",
    "\n",
    "pyplot.axhline(0, color=\"black\")\n",
    "pyplot.axvline(0, color=\"black\")\n",
    "\n",
    "pyplot.title(\"Tiempo por instrucción en función de n\")   # Establece el título del gráfico\n",
    "pyplot.xlabel(\"Lado de la matriz (n)\")   # Inserta el título del eje X \n",
    "pyplot.ylabel(\"Tiempo por instrucción\")   # Inserta el título del eje Y\n",
    "\n",
    "# Guardar gráfico como imágen PNG.\n",
    "pyplot.savefig(\"matrix-no-np.png\")\n",
    "# Mostrarlo.\n",
    "pyplot.show()\n",
    "\n"
   ]
  }
 ],
 "metadata": {
  "kernelspec": {
   "display_name": "Python 3",
   "language": "python",
   "name": "python3"
  },
  "language_info": {
   "codemirror_mode": {
    "name": "ipython",
    "version": 3
   },
   "file_extension": ".py",
   "mimetype": "text/x-python",
   "name": "python",
   "nbconvert_exporter": "python",
   "pygments_lexer": "ipython3",
   "version": "3.6.4"
  }
 },
 "nbformat": 4,
 "nbformat_minor": 2
}
