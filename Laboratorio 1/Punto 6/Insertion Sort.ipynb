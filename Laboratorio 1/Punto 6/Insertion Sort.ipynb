{
 "cells": [
  {
   "cell_type": "markdown",
   "metadata": {},
   "source": [
    "# Insertion Sort: Steps, Comparisons and Swaps analysis"
   ]
  },
  {
   "cell_type": "code",
   "execution_count": 275,
   "metadata": {},
   "outputs": [],
   "source": [
    "import numpy as np\n",
    "import time\n",
    "import itertools\n",
    "import random\n",
    "import matplotlib.pyplot as plt\n",
    "from collections import Counter\n",
    "from collections import OrderedDict"
   ]
  },
  {
   "cell_type": "markdown",
   "metadata": {},
   "source": [
    "## Sorting function"
   ]
  },
  {
   "cell_type": "code",
   "execution_count": 124,
   "metadata": {},
   "outputs": [],
   "source": [
    "def in_sort(A):\n",
    "    L = np.array(A)\n",
    "    steps,comps,swaps = 0,0,0\n",
    "    t=np.zeros(len(L), dtype=int)\n",
    "    i = 1\n",
    "    while(i<len(L)):\n",
    "        temp = L[i]\n",
    "        j=i-1\n",
    "        while(True):\n",
    "            comps+=1\n",
    "            t[i]+=1\n",
    "            if(j<0): \n",
    "                break\n",
    "            if(temp >= L[j]): \n",
    "                break\n",
    "            swaps+=1\n",
    "            L[j+1] = L[j]\n",
    "            j-=1\n",
    "            steps+=3\n",
    "        L[j+1] = temp\n",
    "        steps+=1\n",
    "        i+=1\n",
    "        steps+=4\n",
    "    steps+=1\n",
    "    return A, steps,comps,swaps\n"
   ]
  },
  {
   "cell_type": "markdown",
   "metadata": {},
   "source": [
    "## Running the function for every iteration of a 'n' sized array."
   ]
  },
  {
   "cell_type": "code",
   "execution_count": 297,
   "metadata": {},
   "outputs": [],
   "source": [
    "def perm(size):\n",
    "    arr = itertools.permutations(range(size))\n",
    "    stepsList, compsList, swapsList = [], [], []\n",
    "    for p in arr:\n",
    "        L = np.array(p)\n",
    "        steps,comps,swaps = 0,0,0\n",
    "        t=np.zeros(len(L), dtype=int)\n",
    "        i = 1\n",
    "        while(i<len(L)):\n",
    "            temp = L[i]\n",
    "            j=i-1\n",
    "            while(True):\n",
    "                comps+=1\n",
    "                t[i]+=1\n",
    "                if(j<0): \n",
    "                    break\n",
    "                if(temp >= L[j]): \n",
    "                    break\n",
    "                swaps+=1\n",
    "                L[j+1] = L[j]\n",
    "                j-=1\n",
    "                steps+=3\n",
    "            L[j+1] = temp\n",
    "            steps+=1\n",
    "            i+=1\n",
    "            steps+=4\n",
    "        steps+=1\n",
    "        \n",
    "        #print(p, L, steps,comps,swaps)\n",
    "        stepsList.append(steps)\n",
    "        compsList.append(comps)\n",
    "        swapsList.append(swaps)\n",
    "        \n",
    "    #print('steps:', stepsList, 'comps:', compsList, 'swaps:', swapsList)\n",
    "    \n",
    "    stepsCount = Counter(stepsList)\n",
    "    compsCount = Counter(compsList)\n",
    "    swapsCount = Counter(swapsList)\n",
    "    \n",
    "    print('Average number of steps for sorting a list of size {}:\\n'.format(size), np.mean(stepsList))\n",
    "    print('Minimum number of steps for sorting a list of size {}:\\n'.format(size), min(stepsList))\n",
    "    print('Maximum number of steps for sorting a list of size {}:\\n'.format(size), max(stepsList))\n",
    "    \n",
    "    plt.bar(range(len(stepsCount)), list(stepsCount.values()), align='center', width=0.4)\n",
    "    plt.xticks(range(len(stepsCount)), list(stepsCount.keys()))\n",
    "    plt.xlabel('Number of steps')\n",
    "    plt.ylabel('Ocurrences')\n",
    "    plt.title('Steps for n = {}'.format(size))\n",
    "    \n",
    "    print('\\nDistribution:')\n",
    "    plt.show()\n",
    "    \n",
    "    print('------------\\n')\n",
    "    \n",
    "    print('Average number of comparisons for sorting a list of size {}:\\n'.format(size), np.mean(compsList))\n",
    "    print('Minimum number of comparisons sorting a list of size {}:\\n'.format(size), min(compsList))\n",
    "    print('Maximum number of comparisons for sorting a list of size {}:\\n'.format(size), max(compsList))\n",
    "    \n",
    "    plt.bar(range(len(compsCount)), list(compsCount.values()), align='center', width=0.4)\n",
    "    plt.xticks(range(len(compsCount)), list(compsCount.keys()))\n",
    "    plt.xlabel('Number of comparisons')\n",
    "    plt.ylabel('Ocurrences')\n",
    "    plt.title('Comps for n = {}'.format(size))\n",
    "    \n",
    "    print('\\nDistribution:')\n",
    "    plt.show()\n",
    "    \n",
    "    print('------------\\n')\n",
    "    \n",
    "    print('Average number of swaps for sorting a list of size {}:\\n'.format(size), np.mean(swapsList))\n",
    "    print('Minimum number of swaps sorting a list of size {}:\\n'.format(size), min(swapsList))\n",
    "    print('Maximum number of swaps for sorting a list of size {}:\\n'.format(size), max(swapsList))\n",
    "    \n",
    "    plt.bar(range(len(swapsCount)), list(swapsCount.values()), align='center', width=0.4)\n",
    "    plt.xticks(range(len(swapsCount)), list(swapsCount.keys()))\n",
    "    plt.xlabel('Number of swaps')\n",
    "    plt.ylabel('Ocurrences')\n",
    "    plt.title('Swaps for n = {}'.format(size))\n",
    "    \n",
    "    print('\\nDistribution:')\n",
    "    plt.show()\n",
    "    \n",
    "    \n",
    "    "
   ]
  },
  {
   "cell_type": "markdown",
   "metadata": {},
   "source": [
    "## Output"
   ]
  },
  {
   "cell_type": "code",
   "execution_count": 346,
   "metadata": {},
   "outputs": [
    {
     "name": "stdout",
     "output_type": "stream",
     "text": [
      "Average number of steps for sorting a list of size 7:\n",
      " 62.5\n",
      "Minimum number of steps for sorting a list of size 7:\n",
      " 31\n",
      "Maximum number of steps for sorting a list of size 7:\n",
      " 94\n",
      "\n",
      "Distribution:\n"
     ]
    },
    {
     "data": {
      "image/png": "[encoded data removed]",
      "text/plain": [
       "<matplotlib.figure.Figure at 0x594edc2748>"
      ]
     },
     "metadata": {},
     "output_type": "display_data"
    },
    {
     "name": "stdout",
     "output_type": "stream",
     "text": [
      "------------\n",
      "\n",
      "Average number of comparisons for sorting a list of size 7:\n",
      " 16.5\n",
      "Minimum number of comparisons sorting a list of size 7:\n",
      " 6\n",
      "Maximum number of comparisons for sorting a list of size 7:\n",
      " 27\n",
      "\n",
      "Distribution:\n"
     ]
    },
    {
     "data": {
      "image/png": "[encoded data removed]",
      "text/plain": [
       "<matplotlib.figure.Figure at 0x594ec1ccf8>"
      ]
     },
     "metadata": {},
     "output_type": "display_data"
    },
    {
     "name": "stdout",
     "output_type": "stream",
     "text": [
      "------------\n",
      "\n",
      "Average number of swaps for sorting a list of size 7:\n",
      " 10.5\n",
      "Minimum number of swaps sorting a list of size 7:\n",
      " 0\n",
      "Maximum number of swaps for sorting a list of size 7:\n",
      " 21\n",
      "\n",
      "Distribution:\n"
     ]
    },
    {
     "data": {
      "image/png": "[encoded data removed]",
      "text/plain": [
       "<matplotlib.figure.Figure at 0x594ec79e80>"
      ]
     },
     "metadata": {},
     "output_type": "display_data"
    }
   ],
   "source": [
    "perm(7)\n"
   ]
  },
  {
   "cell_type": "markdown",
   "metadata": {},
   "source": [
    "## Running the function for 2*n random permutations of size 'n'."
   ]
  },
  {
   "cell_type": "code",
   "execution_count": 349,
   "metadata": {},
   "outputs": [],
   "source": [
    "def randPerm(size):\n",
    "    arr = list(range(size))\n",
    "    final = []\n",
    "    stepsList, compsList, swapsList = [], [], []\n",
    "    for i in range(2*size):\n",
    "        random.shuffle(arr)\n",
    "        final.append(list(arr))\n",
    "    \n",
    "    for p in range(len(final)):\n",
    "        L = np.array(final[p])\n",
    "        steps,comps,swaps = 0,0,0\n",
    "        t=np.zeros(len(L), dtype=int)\n",
    "        i = 1\n",
    "        while(i<len(L)):\n",
    "            temp = L[i]\n",
    "            j=i-1\n",
    "            while(True):\n",
    "                comps+=1\n",
    "                t[i]+=1\n",
    "                if(j<0): \n",
    "                    break\n",
    "                if(temp >= L[j]): \n",
    "                    break\n",
    "                swaps+=1\n",
    "                L[j+1] = L[j]\n",
    "                j-=1\n",
    "                steps+=3\n",
    "            L[j+1] = temp\n",
    "            steps+=1\n",
    "            i+=1\n",
    "            steps+=4\n",
    "        steps+=1\n",
    "        \n",
    "        #print(final[p], L, steps,comps,swaps)\n",
    "        stepsList.append(steps)\n",
    "        compsList.append(comps)\n",
    "        swapsList.append(swaps)\n",
    "        \n",
    "    #print('steps:', stepsList, 'comps:', compsList, 'swaps:', swapsList)\n",
    "    \n",
    "    stepsCount = Counter(stepsList)\n",
    "    stepsB = OrderedDict(sorted(stepsCount.items()))\n",
    "    compsCount = Counter(compsList)\n",
    "    compsB = OrderedDict(sorted(compsCount.items()))\n",
    "    swapsCount = Counter(swapsList)\n",
    "    swapsB = OrderedDict(sorted(swapsCount.items()))\n",
    "    \n",
    "    print('Average number of steps after sorting {} random lists of size {}:\\n'.format(2*size, size), np.mean(stepsList))\n",
    "    print('Minimum number of steps after sorting {} random lists of size {}:\\n'.format(2*size, size), min(stepsList))\n",
    "    print('Maximum number of steps after sorting {} random lists of size {}:\\n'.format(2*size, size), max(stepsList))\n",
    "    \n",
    "    plt.bar(range(len(stepsB)), list(stepsB.values()), align='center', width=0.4, color='orange')\n",
    "    plt.xticks(range(len(stepsB)), list(stepsB.keys()))\n",
    "    plt.xlabel('Number of steps')\n",
    "    plt.ylabel('Ocurrences')\n",
    "    plt.title('Steps for n ={}'.format(size))\n",
    "        \n",
    "    print('\\nDistribution:')\n",
    "    plt.show()\n",
    "    \n",
    "    print('------------\\n')\n",
    "    \n",
    "    print('Average number of comparisons after sorting {} random lists of size {}:\\n'.format(2*size, size), np.mean(compsList))\n",
    "    print('Minimum number of comparisons after sorting {} random lists of size {}:\\n'.format(2*size, size), min(compsList))\n",
    "    print('Maximum number of comparisons after sorting {} random lists of size {}:\\n'.format(2*size, size), max(compsList))\n",
    "    \n",
    "    plt.bar(range(len(compsB)), list(compsB.values()), align='center', width=0.4, color='orange')\n",
    "    plt.xticks(range(len(compsB)), list(compsB.keys()))\n",
    "    plt.xlabel('Number of comparisons')\n",
    "    plt.ylabel('Ocurrences')\n",
    "    plt.title('Comps for n = {}'.format(size))\n",
    "    \n",
    "    print('\\nDistribution:')\n",
    "    plt.show()\n",
    "    \n",
    "    print('------------\\n')\n",
    "    \n",
    "    print('Average number of swaps after sorting {} random lists of size {}:\\n'.format(2*size, size), np.mean(swapsList))\n",
    "    print('Minimum number of swaps after sorting {} random lists of size {}:\\n'.format(2*size, size), min(swapsList))\n",
    "    print('Maximum number of swaps after sorting {} random lists of size {}:\\n'.format(2*size, size), max(swapsList))\n",
    "    \n",
    "\n",
    "    plt.bar(range(len(swapsB)), list(swapsB.values()), align='center', width=0.4, color='orange')\n",
    "    plt.xticks(range(len(swapsB)), list(swapsB.keys()))\n",
    "    plt.xlabel('Number of swaps')\n",
    "    plt.ylabel('Ocurrences')\n",
    "    plt.title('Swaps for n = {}'.format(size))\n",
    "    \n",
    "    print('\\nDistribution:')\n",
    "    plt.show()\n",
    "    "
   ]
  },
  {
   "cell_type": "markdown",
   "metadata": {},
   "source": [
    "## Output"
   ]
  },
  {
   "cell_type": "code",
   "execution_count": 373,
   "metadata": {},
   "outputs": [
    {
     "name": "stdout",
     "output_type": "stream",
     "text": [
      "Average number of steps after sorting 20 random lists of size 10:\n",
      " 113.35\n",
      "Minimum number of steps after sorting 20 random lists of size 10:\n",
      " 79\n",
      "Maximum number of steps after sorting 20 random lists of size 10:\n",
      " 148\n",
      "\n",
      "Distribution:\n"
     ]
    },
    {
     "data": {
      "image/png": "[encoded data removed]",
      "text/plain": [
       "<matplotlib.figure.Figure at 0x594ed609e8>"
      ]
     },
     "metadata": {},
     "output_type": "display_data"
    },
    {
     "name": "stdout",
     "output_type": "stream",
     "text": [
      "------------\n",
      "\n",
      "Average number of comparisons after sorting 20 random lists of size 10:\n",
      " 31.45\n",
      "Minimum number of comparisons after sorting 20 random lists of size 10:\n",
      " 20\n",
      "Maximum number of comparisons after sorting 20 random lists of size 10:\n",
      " 43\n",
      "\n",
      "Distribution:\n"
     ]
    },
    {
     "data": {
      "image/png": "[encoded data removed]",
      "text/plain": [
       "<matplotlib.figure.Figure at 0x594ec2b2e8>"
      ]
     },
     "metadata": {},
     "output_type": "display_data"
    },
    {
     "name": "stdout",
     "output_type": "stream",
     "text": [
      "------------\n",
      "\n",
      "Average number of swaps after sorting 20 random lists of size 10:\n",
      " 22.45\n",
      "Minimum number of swaps after sorting 20 random lists of size 10:\n",
      " 11\n",
      "Maximum number of swaps after sorting 20 random lists of size 10:\n",
      " 34\n",
      "\n",
      "Distribution:\n"
     ]
    },
    {
     "data": {
      "image/png": "[encoded data removed]",
      "text/plain": [
       "<matplotlib.figure.Figure at 0x594ec95f60>"
      ]
     },
     "metadata": {},
     "output_type": "display_data"
    }
   ],
   "source": [
    "randPerm(10)"
   ]
  }
 ],
 "metadata": {
  "kernelspec": {
   "display_name": "Python 3",
   "language": "python",
   "name": "python3"
  },
  "language_info": {
   "codemirror_mode": {
    "name": "ipython",
    "version": 3
   },
   "file_extension": ".py",
   "mimetype": "text/x-python",
   "name": "python",
   "nbconvert_exporter": "python",
   "pygments_lexer": "ipython3",
   "version": "3.6.4"
  }
 },
 "nbformat": 4,
 "nbformat_minor": 2
}
