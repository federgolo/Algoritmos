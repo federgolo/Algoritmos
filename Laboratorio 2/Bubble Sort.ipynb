{
 "cells": [
  {
   "cell_type": "markdown",
   "metadata": {},
   "source": [
    "# Bubble Sort: Steps, Comparisons and Swaps analysis"
   ]
  },
  {
   "cell_type": "code",
   "execution_count": 1,
   "metadata": {},
   "outputs": [],
   "source": [
    "import numpy as np\n",
    "import time\n",
    "import itertools\n",
    "import random\n",
    "import matplotlib.pyplot as plt\n",
    "from collections import Counter\n",
    "from collections import OrderedDict"
   ]
  },
  {
   "cell_type": "markdown",
   "metadata": {},
   "source": [
    "## Sorting function"
   ]
  },
  {
   "cell_type": "code",
   "execution_count": 33,
   "metadata": {},
   "outputs": [],
   "source": [
    "def bubbleSort(alist):\n",
    "    steps, comps, swaps = 0, 0, 0\n",
    "    for passnum in range(len(alist)-1,0,-1):\n",
    "        steps +=1\n",
    "        for i in range(passnum):\n",
    "            steps +=1\n",
    "            comps += 1\n",
    "            if alist[i]>alist[i+1]:\n",
    "                alist[i], alist[i+1] = alist[i+1], alist[i]\n",
    "                steps +=1\n",
    "                swaps +=1\n",
    "    \n",
    "    print(alist)\n",
    "    print(steps, comps, swaps)\n"
   ]
  },
  {
   "cell_type": "code",
   "execution_count": 47,
   "metadata": {},
   "outputs": [
    {
     "name": "stdout",
     "output_type": "stream",
     "text": [
      "[1, 1, 2, 3, 3, 3, 4, 5, 6, 6, 8, 9]\n",
      "99 66 22\n"
     ]
    }
   ],
   "source": [
    "L = [1, 4, 2, 3, 8, 3, 5, 9, 6, 1 ,3, 6]\n",
    "bubbleSort(L)"
   ]
  },
  {
   "cell_type": "markdown",
   "metadata": {},
   "source": [
    "## Running the function for every iteration of a 'n' sized array."
   ]
  },
  {
   "cell_type": "code",
   "execution_count": 63,
   "metadata": {},
   "outputs": [],
   "source": [
    "def perm(size):\n",
    "    arr = itertools.permutations(range(size))\n",
    "    stepsList, compsList, swapsList = [], [], []\n",
    "    for p in arr:\n",
    "        alist = np.array(p)\n",
    "        steps, comps, swaps = 0, 0, 0\n",
    "        for passnum in range(len(alist)-1,0,-1):\n",
    "            steps +=1\n",
    "            for i in range(passnum):\n",
    "                steps +=1\n",
    "                comps += 1\n",
    "                if alist[i]>alist[i+1]:\n",
    "                    alist[i], alist[i+1] = alist[i+1], alist[i]\n",
    "                    steps +=1\n",
    "                    swaps +=1\n",
    "        \n",
    "        #print(p, L, steps,comps,swaps)\n",
    "        stepsList.append(steps)\n",
    "        compsList.append(comps)\n",
    "        swapsList.append(swaps)\n",
    "        \n",
    "    #print('steps:', stepsList, 'comps:', compsList, 'swaps:', swapsList)\n",
    "    \n",
    "    stepsCount = Counter(stepsList)\n",
    "    compsCount = Counter(compsList)\n",
    "    swapsCount = Counter(swapsList)\n",
    "    \n",
    "    print('Average number of steps for sorting a list of size {}:\\n'.format(size), np.mean(stepsList))\n",
    "    print('Minimum number of steps for sorting a list of size {}:\\n'.format(size), min(stepsList))\n",
    "    print('Maximum number of steps for sorting a list of size {}:\\n'.format(size), max(stepsList))\n",
    "    \n",
    "    plt.bar(range(len(stepsCount)), list(stepsCount.values()), align='center', width=0.4, color='brown')\n",
    "    plt.xticks(range(len(stepsCount)), list(stepsCount.keys()))\n",
    "    plt.xlabel('Number of steps')\n",
    "    plt.ylabel('Ocurrences')\n",
    "    plt.title('Steps for n = {}'.format(size))\n",
    "    \n",
    "    print('\\nDistribution:')\n",
    "    plt.show()\n",
    "    \n",
    "    print('------------\\n')\n",
    "    \n",
    "    print('Average number of comparisons for sorting a list of size {}:\\n'.format(size), np.mean(compsList))\n",
    "    print('Minimum number of comparisons sorting a list of size {}:\\n'.format(size), min(compsList))\n",
    "    print('Maximum number of comparisons for sorting a list of size {}:\\n'.format(size), max(compsList))\n",
    "    \n",
    "    plt.bar(range(len(compsCount)), list(compsCount.values()), align='center', width=0.4, color='brown')\n",
    "    plt.xticks(range(len(compsCount)), list(compsCount.keys()))\n",
    "    plt.xlabel('Number of comparisons')\n",
    "    plt.ylabel('Ocurrences')\n",
    "    plt.title('Comps for n = {}'.format(size))\n",
    "    \n",
    "    print('\\nDistribution:')\n",
    "    plt.show()\n",
    "    \n",
    "    print('------------\\n')\n",
    "    \n",
    "    print('Average number of swaps for sorting a list of size {}:\\n'.format(size), np.mean(swapsList))\n",
    "    print('Minimum number of swaps sorting a list of size {}:\\n'.format(size), min(swapsList))\n",
    "    print('Maximum number of swaps for sorting a list of size {}:\\n'.format(size), max(swapsList))\n",
    "    \n",
    "    plt.bar(range(len(swapsCount)), list(swapsCount.values()), align='center', width=0.4, color='brown')\n",
    "    plt.xticks(range(len(swapsCount)), list(swapsCount.keys()))\n",
    "    plt.xlabel('Number of swaps')\n",
    "    plt.ylabel('Ocurrences')\n",
    "    plt.title('Swaps for n = {}'.format(size))\n",
    "    \n",
    "    print('\\nDistribution:')\n",
    "    plt.show()"
   ]
  },
  {
   "cell_type": "markdown",
   "metadata": {},
   "source": [
    "## Output"
   ]
  },
  {
   "cell_type": "code",
   "execution_count": 64,
   "metadata": {},
   "outputs": [
    {
     "name": "stdout",
     "output_type": "stream",
     "text": [
      "Average number of steps for sorting a list of size 7:\n",
      " 37.5\n",
      "Minimum number of steps for sorting a list of size 7:\n",
      " 27\n",
      "Maximum number of steps for sorting a list of size 7:\n",
      " 48\n",
      "\n",
      "Distribution:\n"
     ]
    },
    {
     "data": {
      "image/png": "[encoded data removed]",
      "text/plain": [
       "<matplotlib.figure.Figure at 0x881479e940>"
      ]
     },
     "metadata": {},
     "output_type": "display_data"
    },
    {
     "name": "stdout",
     "output_type": "stream",
     "text": [
      "------------\n",
      "\n",
      "Average number of comparisons for sorting a list of size 7:\n",
      " 21.0\n",
      "Minimum number of comparisons sorting a list of size 7:\n",
      " 21\n",
      "Maximum number of comparisons for sorting a list of size 7:\n",
      " 21\n",
      "\n",
      "Distribution:\n"
     ]
    },
    {
     "data": {
      "image/png": "[encoded data removed]",
      "text/plain": [
       "<matplotlib.figure.Figure at 0x88134d97f0>"
      ]
     },
     "metadata": {},
     "output_type": "display_data"
    },
    {
     "name": "stdout",
     "output_type": "stream",
     "text": [
      "------------\n",
      "\n",
      "Average number of swaps for sorting a list of size 7:\n",
      " 10.5\n",
      "Minimum number of swaps sorting a list of size 7:\n",
      " 0\n",
      "Maximum number of swaps for sorting a list of size 7:\n",
      " 21\n",
      "\n",
      "Distribution:\n"
     ]
    },
    {
     "data": {
      "image/png": "[encoded data removed]",
      "text/plain": [
       "<matplotlib.figure.Figure at 0x8814736c50>"
      ]
     },
     "metadata": {},
     "output_type": "display_data"
    }
   ],
   "source": [
    "perm(7)"
   ]
  },
  {
   "cell_type": "markdown",
   "metadata": {},
   "source": [
    "## Running the function for 2*n random permutations of size 'n'."
   ]
  },
  {
   "cell_type": "code",
   "execution_count": 65,
   "metadata": {},
   "outputs": [],
   "source": [
    "def randPerm(size):\n",
    "    arr = list(range(size))\n",
    "    final = []\n",
    "    stepsList, compsList, swapsList = [], [], []\n",
    "    for i in range(2*size):\n",
    "        random.shuffle(arr)\n",
    "        final.append(list(arr))\n",
    "    \n",
    "    for p in range(len(final)):\n",
    "        alist = np.array(final[p])\n",
    "        steps, comps, swaps = 0, 0, 0\n",
    "        for passnum in range(len(alist)-1,0,-1):\n",
    "            steps +=1\n",
    "            for i in range(passnum):\n",
    "                steps +=1\n",
    "                comps += 1\n",
    "                if alist[i]>alist[i+1]:\n",
    "                    alist[i], alist[i+1] = alist[i+1], alist[i]\n",
    "                    steps +=1\n",
    "                    swaps +=1\n",
    "        \n",
    "        #print(final[p], L, steps,comps,swaps)\n",
    "        stepsList.append(steps)\n",
    "        compsList.append(comps)\n",
    "        swapsList.append(swaps)\n",
    "        \n",
    "    #print('steps:', stepsList, 'comps:', compsList, 'swaps:', swapsList)\n",
    "    \n",
    "    stepsCount = Counter(stepsList)\n",
    "    stepsB = OrderedDict(sorted(stepsCount.items()))\n",
    "    compsCount = Counter(compsList)\n",
    "    compsB = OrderedDict(sorted(compsCount.items()))\n",
    "    swapsCount = Counter(swapsList)\n",
    "    swapsB = OrderedDict(sorted(swapsCount.items()))\n",
    "    \n",
    "    print('Average number of steps after sorting {} random lists of size {}:\\n'.format(2*size, size), np.mean(stepsList))\n",
    "    print('Minimum number of steps after sorting {} random lists of size {}:\\n'.format(2*size, size), min(stepsList))\n",
    "    print('Maximum number of steps after sorting {} random lists of size {}:\\n'.format(2*size, size), max(stepsList))\n",
    "    \n",
    "    plt.bar(range(len(stepsB)), list(stepsB.values()), align='center', width=0.4, color='green')\n",
    "    plt.xticks(range(len(stepsB)), list(stepsB.keys()))\n",
    "    plt.xlabel('Number of steps')\n",
    "    plt.ylabel('Ocurrences')\n",
    "    plt.title('Steps for n ={}'.format(size))\n",
    "        \n",
    "    print('\\nDistribution:')\n",
    "    plt.show()\n",
    "    \n",
    "    print('------------\\n')\n",
    "    \n",
    "    print('Average number of comparisons after sorting {} random lists of size {}:\\n'.format(2*size, size), np.mean(compsList))\n",
    "    print('Minimum number of comparisons after sorting {} random lists of size {}:\\n'.format(2*size, size), min(compsList))\n",
    "    print('Maximum number of comparisons after sorting {} random lists of size {}:\\n'.format(2*size, size), max(compsList))\n",
    "    \n",
    "    plt.bar(range(len(compsB)), list(compsB.values()), align='center', width=0.4, color='green')\n",
    "    plt.xticks(range(len(compsB)), list(compsB.keys()))\n",
    "    plt.xlabel('Number of comparisons')\n",
    "    plt.ylabel('Ocurrences')\n",
    "    plt.title('Comps for n = {}'.format(size))\n",
    "    \n",
    "    print('\\nDistribution:')\n",
    "    plt.show()\n",
    "    \n",
    "    print('------------\\n')\n",
    "    \n",
    "    print('Average number of swaps after sorting {} random lists of size {}:\\n'.format(2*size, size), np.mean(swapsList))\n",
    "    print('Minimum number of swaps after sorting {} random lists of size {}:\\n'.format(2*size, size), min(swapsList))\n",
    "    print('Maximum number of swaps after sorting {} random lists of size {}:\\n'.format(2*size, size), max(swapsList))\n",
    "    \n",
    "\n",
    "    plt.bar(range(len(swapsB)), list(swapsB.values()), align='center', width=0.4, color='green')\n",
    "    plt.xticks(range(len(swapsB)), list(swapsB.keys()))\n",
    "    plt.xlabel('Number of swaps')\n",
    "    plt.ylabel('Ocurrences')\n",
    "    plt.title('Swaps for n = {}'.format(size))\n",
    "    \n",
    "    print('\\nDistribution:')\n",
    "    plt.show()"
   ]
  },
  {
   "cell_type": "markdown",
   "metadata": {},
   "source": [
    "## Output"
   ]
  },
  {
   "cell_type": "code",
   "execution_count": 99,
   "metadata": {},
   "outputs": [
    {
     "name": "stdout",
     "output_type": "stream",
     "text": [
      "Average number of steps after sorting 20 random lists of size 10:\n",
      " 75.75\n",
      "Minimum number of steps after sorting 20 random lists of size 10:\n",
      " 66\n",
      "Maximum number of steps after sorting 20 random lists of size 10:\n",
      " 86\n",
      "\n",
      "Distribution:\n"
     ]
    },
    {
     "data": {
      "image/png": "[encoded data removed]",
      "text/plain": [
       "<matplotlib.figure.Figure at 0x8813396898>"
      ]
     },
     "metadata": {},
     "output_type": "display_data"
    },
    {
     "name": "stdout",
     "output_type": "stream",
     "text": [
      "------------\n",
      "\n",
      "Average number of comparisons after sorting 20 random lists of size 10:\n",
      " 45.0\n",
      "Minimum number of comparisons after sorting 20 random lists of size 10:\n",
      " 45\n",
      "Maximum number of comparisons after sorting 20 random lists of size 10:\n",
      " 45\n",
      "\n",
      "Distribution:\n"
     ]
    },
    {
     "data": {
      "image/png": "[encoded data removed]",
      "text/plain": [
       "<matplotlib.figure.Figure at 0x8813641ba8>"
      ]
     },
     "metadata": {},
     "output_type": "display_data"
    },
    {
     "name": "stdout",
     "output_type": "stream",
     "text": [
      "------------\n",
      "\n",
      "Average number of swaps after sorting 20 random lists of size 10:\n",
      " 21.75\n",
      "Minimum number of swaps after sorting 20 random lists of size 10:\n",
      " 12\n",
      "Maximum number of swaps after sorting 20 random lists of size 10:\n",
      " 32\n",
      "\n",
      "Distribution:\n"
     ]
    },
    {
     "data": {
      "image/png": "[encoded data removed]",
      "text/plain": [
       "<matplotlib.figure.Figure at 0x881471c7b8>"
      ]
     },
     "metadata": {},
     "output_type": "display_data"
    }
   ],
   "source": [
    "randPerm(10)"
   ]
  }
 ],
 "metadata": {
  "kernelspec": {
   "display_name": "Python 3",
   "language": "python",
   "name": "python3"
  },
  "language_info": {
   "codemirror_mode": {
    "name": "ipython",
    "version": 3
   },
   "file_extension": ".py",
   "mimetype": "text/x-python",
   "name": "python",
   "nbconvert_exporter": "python",
   "pygments_lexer": "ipython3",
   "version": "3.6.4"
  }
 },
 "nbformat": 4,
 "nbformat_minor": 2
}
